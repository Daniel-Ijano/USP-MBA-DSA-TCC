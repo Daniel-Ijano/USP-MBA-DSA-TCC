{
 "cells": [
  {
   "cell_type": "markdown",
   "metadata": {},
   "source": [
    "# Main"
   ]
  },
  {
   "cell_type": "markdown",
   "metadata": {},
   "source": [
    "#### Setup"
   ]
  },
  {
   "cell_type": "code",
   "execution_count": 1,
   "metadata": {},
   "outputs": [],
   "source": [
    "import pandas as pd\n",
    "from google.cloud import bigquery\n",
    "from google.oauth2 import service_account"
   ]
  },
  {
   "cell_type": "code",
   "execution_count": 2,
   "metadata": {},
   "outputs": [],
   "source": [
    "# Create the connection with Google Cloud\n",
    "def create_connection():\n",
    "        # Set the credentials and create the connection\n",
    "        key_path = \"../usp-mba-dsa-tcc-4277103d9155.json\"\n",
    "\n",
    "        credentials = service_account.Credentials.from_service_account_file(\n",
    "            key_path,\n",
    "            scopes=[\"https://www.googleapis.com/auth/bigquery\"]\n",
    "        )\n",
    "\n",
    "        client = bigquery.Client(\n",
    "            credentials=credentials,\n",
    "            project=credentials.project_id,\n",
    "        )\n",
    "        return client\n",
    "\n",
    "client = create_connection()"
   ]
  },
  {
   "cell_type": "code",
   "execution_count": 3,
   "metadata": {},
   "outputs": [],
   "source": [
    "# Perform a query.\n",
    "QUERY = (\"\"\"\n",
    "    SELECT DISTINCT offer_id, LOWER(Descricao) Descricao\n",
    "    FROM `usp-mba-dsa-tcc.ecommerce_offers.vw_dim_offers`\n",
    "\"\"\")\n",
    "query_job = client.query(QUERY)  # API request\n",
    "rows = query_job.result()  # Waits for query to finish\n",
    "\n",
    "offers = rows.to_dataframe()"
   ]
  },
  {
   "cell_type": "code",
   "execution_count": 4,
   "metadata": {},
   "outputs": [
    {
     "data": {
      "text/html": [
       "<div>\n",
       "<style scoped>\n",
       "    .dataframe tbody tr th:only-of-type {\n",
       "        vertical-align: middle;\n",
       "    }\n",
       "\n",
       "    .dataframe tbody tr th {\n",
       "        vertical-align: top;\n",
       "    }\n",
       "\n",
       "    .dataframe thead th {\n",
       "        text-align: right;\n",
       "    }\n",
       "</style>\n",
       "<table border=\"1\" class=\"dataframe\">\n",
       "  <thead>\n",
       "    <tr style=\"text-align: right;\">\n",
       "      <th></th>\n",
       "      <th>offer_id</th>\n",
       "      <th>Descricao</th>\n",
       "    </tr>\n",
       "  </thead>\n",
       "  <tbody>\n",
       "    <tr>\n",
       "      <th>0</th>\n",
       "      <td>272b754da4d4be1ab0871ea02023adeebbad9c906363b6...</td>\n",
       "      <td>ração n&amp;amp;d prime cães adultos maxi frango 1...</td>\n",
       "    </tr>\n",
       "    <tr>\n",
       "      <th>1</th>\n",
       "      <td>9eab4767c70bee1fd0f2369bda3af61fc4d0b8293198dd...</td>\n",
       "      <td>ração granplus menu carne e arroz para cães fi...</td>\n",
       "    </tr>\n",
       "  </tbody>\n",
       "</table>\n",
       "</div>"
      ],
      "text/plain": [
       "                                            offer_id  \\\n",
       "0  272b754da4d4be1ab0871ea02023adeebbad9c906363b6...   \n",
       "1  9eab4767c70bee1fd0f2369bda3af61fc4d0b8293198dd...   \n",
       "\n",
       "                                           Descricao  \n",
       "0  ração n&amp;d prime cães adultos maxi frango 1...  \n",
       "1  ração granplus menu carne e arroz para cães fi...  "
      ]
     },
     "execution_count": 4,
     "metadata": {},
     "output_type": "execute_result"
    }
   ],
   "source": [
    "offers.head(2)"
   ]
  },
  {
   "cell_type": "code",
   "execution_count": 5,
   "metadata": {},
   "outputs": [
    {
     "data": {
      "text/plain": [
       "109"
      ]
     },
     "execution_count": 5,
     "metadata": {},
     "output_type": "execute_result"
    }
   ],
   "source": [
    "# Carrega a lista de sabores\n",
    "lista_sabores = list(set(pd.read_csv('sabores.csv')['words']))\n",
    "len(lista_sabores)"
   ]
  },
  {
   "cell_type": "markdown",
   "metadata": {},
   "source": [
    "#### Transformações"
   ]
  },
  {
   "cell_type": "code",
   "execution_count": 6,
   "metadata": {},
   "outputs": [],
   "source": [
    "from nltk.tokenize import word_tokenize\n",
    "offers[\"Sabores\"] = offers['Descricao'].apply(word_tokenize) "
   ]
  },
  {
   "cell_type": "code",
   "execution_count": 7,
   "metadata": {},
   "outputs": [],
   "source": [
    "# Filtrar sabores da lista\n",
    "def filtrar_sabores(lista):\n",
    "    lista_filtrada = [sabor.capitalize() for sabor in lista if sabor in lista_sabores]\n",
    "    return sorted(lista_filtrada)\n",
    "\n",
    "offers['Sabores'] = offers['Sabores'].apply(filtrar_sabores)"
   ]
  },
  {
   "cell_type": "code",
   "execution_count": 8,
   "metadata": {},
   "outputs": [],
   "source": [
    "# Transformar listas de sabores em string\n",
    "def transformar_lista_para_string(lista):\n",
    "    # Verifica se a lista está vazia\n",
    "    if not lista:\n",
    "        return None\n",
    "    \n",
    "    # Se houver apenas um elemento, retorna esse elemento como uma string\n",
    "    if len(lista) == 1:\n",
    "        return lista[0]\n",
    "    \n",
    "    # Se houver mais de um elemento, formata a lista como uma string com \"e\" entre os dois últimos elementos\n",
    "    return ', '.join(lista[:-1]) + ' e ' + lista[-1]\n",
    "\n",
    "offers['Sabores'] = offers['Sabores'].apply(transformar_lista_para_string)"
   ]
  },
  {
   "cell_type": "code",
   "execution_count": 9,
   "metadata": {},
   "outputs": [
    {
     "data": {
      "text/html": [
       "<div>\n",
       "<style scoped>\n",
       "    .dataframe tbody tr th:only-of-type {\n",
       "        vertical-align: middle;\n",
       "    }\n",
       "\n",
       "    .dataframe tbody tr th {\n",
       "        vertical-align: top;\n",
       "    }\n",
       "\n",
       "    .dataframe thead th {\n",
       "        text-align: right;\n",
       "    }\n",
       "</style>\n",
       "<table border=\"1\" class=\"dataframe\">\n",
       "  <thead>\n",
       "    <tr style=\"text-align: right;\">\n",
       "      <th></th>\n",
       "      <th>offer_id</th>\n",
       "      <th>Sabores</th>\n",
       "    </tr>\n",
       "  </thead>\n",
       "  <tbody>\n",
       "    <tr>\n",
       "      <th>0</th>\n",
       "      <td>272b754da4d4be1ab0871ea02023adeebbad9c906363b6...</td>\n",
       "      <td>Frango</td>\n",
       "    </tr>\n",
       "    <tr>\n",
       "      <th>1</th>\n",
       "      <td>9eab4767c70bee1fd0f2369bda3af61fc4d0b8293198dd...</td>\n",
       "      <td>Arroz e Carne</td>\n",
       "    </tr>\n",
       "  </tbody>\n",
       "</table>\n",
       "</div>"
      ],
      "text/plain": [
       "                                            offer_id        Sabores\n",
       "0  272b754da4d4be1ab0871ea02023adeebbad9c906363b6...         Frango\n",
       "1  9eab4767c70bee1fd0f2369bda3af61fc4d0b8293198dd...  Arroz e Carne"
      ]
     },
     "execution_count": 9,
     "metadata": {},
     "output_type": "execute_result"
    }
   ],
   "source": [
    "# Drop column Descricao\n",
    "offers.drop('Descricao', axis=1, inplace=True)\n",
    "offers.head(2)"
   ]
  },
  {
   "cell_type": "markdown",
   "metadata": {},
   "source": [
    "#### Upload"
   ]
  },
  {
   "cell_type": "code",
   "execution_count": 10,
   "metadata": {},
   "outputs": [
    {
     "name": "stderr",
     "output_type": "stream",
     "text": [
      "100%|██████████| 1/1 [00:00<00:00, 1000.31it/s]\n"
     ]
    }
   ],
   "source": [
    "# Salva dataframe como tabela no BQ (substituindo)\n",
    "project_id = client.project\n",
    "\n",
    "offers.to_gbq(\n",
    "    project_id=project_id,\n",
    "    destination_table='ecommerce_offers.tb_sabores',\n",
    "    if_exists='replace'\n",
    ")"
   ]
  },
  {
   "cell_type": "markdown",
   "metadata": {},
   "source": [
    "# Outros"
   ]
  },
  {
   "cell_type": "markdown",
   "metadata": {},
   "source": [
    "#### Similarity"
   ]
  },
  {
   "cell_type": "code",
   "execution_count": null,
   "metadata": {},
   "outputs": [],
   "source": [
    "import spacy\n",
    "nlp = spacy.load(\"pt_core_news_lg\")"
   ]
  },
  {
   "cell_type": "code",
   "execution_count": null,
   "metadata": {},
   "outputs": [],
   "source": [
    "for word in offers[\"Sabores\"][0]:\n",
    "    sim_score = nlp(word).similarity(nlp(\"carne\"))\n",
    "    print(word, sim_score)"
   ]
  },
  {
   "cell_type": "code",
   "execution_count": null,
   "metadata": {},
   "outputs": [],
   "source": [
    "descricoes = ' '.join(offers['Descricao'])\n",
    "words = list(set(word_tokenize(descricoes))) # Lista distinta de tokens\n",
    "print(len(words))"
   ]
  },
  {
   "cell_type": "markdown",
   "metadata": {},
   "source": [
    "#### All words"
   ]
  },
  {
   "cell_type": "code",
   "execution_count": null,
   "metadata": {},
   "outputs": [],
   "source": [
    "import nltk\n",
    "from nltk.corpus import stopwords\n",
    "stop_words = set(stopwords.words('portuguese'))"
   ]
  },
  {
   "cell_type": "code",
   "execution_count": null,
   "metadata": {},
   "outputs": [],
   "source": [
    "import re\n",
    "\n",
    "def remove_stopwords_and_numbers(words):\n",
    "    filtered_tokens = []\n",
    "    for token in words:\n",
    "        # Verifique se o token não é uma stop word e não é um número\n",
    "        if token.lower() not in stop_words and not re.match(r'^\\d+(?:\\.\\d+)?$', token):\n",
    "            filtered_tokens.append(token)\n",
    "    return filtered_tokens\n",
    "\n",
    "tokens_sem_stopwords_e_numeros = remove_stopwords_and_numbers(words)\n",
    "print(len(tokens_sem_stopwords_e_numeros))\n",
    "tokens_sem_stopwords_e_numeros"
   ]
  },
  {
   "cell_type": "code",
   "execution_count": null,
   "metadata": {},
   "outputs": [],
   "source": [
    "df = pd.DataFrame(tokens_sem_stopwords_e_numeros)\n",
    "df.to_csv('xaxaxa.csv', index=False)"
   ]
  },
  {
   "cell_type": "code",
   "execution_count": null,
   "metadata": {},
   "outputs": [],
   "source": [
    "offers[\"Sabores\"][1]"
   ]
  },
  {
   "cell_type": "markdown",
   "metadata": {},
   "source": [
    "#### Teste"
   ]
  },
  {
   "cell_type": "code",
   "execution_count": null,
   "metadata": {},
   "outputs": [],
   "source": [
    "sabores = []\n",
    "doc = nlp(offers[\"Descricao\"][0])\n",
    "\n",
    "# Itere pelas entidades nomeadas no texto\n",
    "for entidade in doc.ents:\n",
    "    if entidade.label_ == \"sabor\":  # Verifique se a entidade é um sabor\n",
    "        sabores.append(entidade.text)"
   ]
  },
  {
   "cell_type": "code",
   "execution_count": null,
   "metadata": {},
   "outputs": [],
   "source": [
    "sabores"
   ]
  },
  {
   "cell_type": "markdown",
   "metadata": {},
   "source": [
    "https://docs.google.com/spreadsheets/d/1q5zumCqCpdy4qAMwD1ATpB4FVmgSrmJ9Pliyr-Y_D6w/edit#gid=853736561\n",
    "1. SALVAR UMA LISTA DE SABORES E APLICAR E JÁ ERA\n",
    "2. MONITORAR PRODUTOS SEM SABORES PARA VER O QUE DEU\n",
    "\n",
    "Resolver problemas:\n",
    "Frutos = Frutos do Mar\n",
    "cereias x cereais"
   ]
  }
 ],
 "metadata": {
  "kernelspec": {
   "display_name": ".venv",
   "language": "python",
   "name": "python3"
  },
  "language_info": {
   "codemirror_mode": {
    "name": "ipython",
    "version": 3
   },
   "file_extension": ".py",
   "mimetype": "text/x-python",
   "name": "python",
   "nbconvert_exporter": "python",
   "pygments_lexer": "ipython3",
   "version": "3.11.5"
  },
  "orig_nbformat": 4
 },
 "nbformat": 4,
 "nbformat_minor": 2
}

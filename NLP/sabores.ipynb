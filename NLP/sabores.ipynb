{
 "cells": [
  {
   "cell_type": "code",
   "execution_count": 1,
   "metadata": {},
   "outputs": [],
   "source": [
    "import pandas as pd\n",
    "from google.cloud import bigquery\n",
    "from google.oauth2 import service_account"
   ]
  },
  {
   "cell_type": "markdown",
   "metadata": {},
   "source": [
    "#### Ler tabela do Google Big Query"
   ]
  },
  {
   "cell_type": "code",
   "execution_count": 2,
   "metadata": {},
   "outputs": [],
   "source": [
    "# Create the connection with Google Cloud\n",
    "def create_connection():\n",
    "        # Set the credentials and create the connection\n",
    "        key_path = \"../usp-mba-dsa-tcc-4277103d9155.json\"\n",
    "\n",
    "        credentials = service_account.Credentials.from_service_account_file(\n",
    "            key_path,\n",
    "            scopes=[\"https://www.googleapis.com/auth/bigquery\"]\n",
    "        )\n",
    "\n",
    "        client = bigquery.Client(\n",
    "            credentials=credentials,\n",
    "            project=credentials.project_id,\n",
    "        )\n",
    "        return client\n",
    "\n",
    "client = create_connection()"
   ]
  },
  {
   "cell_type": "code",
   "execution_count": 3,
   "metadata": {},
   "outputs": [],
   "source": [
    "# Perform a query.\n",
    "QUERY = (\"\"\"\n",
    "    SELECT DISTINCT offer_id, LOWER(Descricao) Descricao\n",
    "    FROM `usp-mba-dsa-tcc.ecommerce_offers.vw_dim_offers`\n",
    "\"\"\")\n",
    "query_job = client.query(QUERY)  # API request\n",
    "rows = query_job.result()  # Waits for query to finish\n",
    "\n",
    "offers = rows.to_dataframe()"
   ]
  },
  {
   "cell_type": "code",
   "execution_count": 4,
   "metadata": {},
   "outputs": [
    {
     "data": {
      "text/html": [
       "<div>\n",
       "<style scoped>\n",
       "    .dataframe tbody tr th:only-of-type {\n",
       "        vertical-align: middle;\n",
       "    }\n",
       "\n",
       "    .dataframe tbody tr th {\n",
       "        vertical-align: top;\n",
       "    }\n",
       "\n",
       "    .dataframe thead th {\n",
       "        text-align: right;\n",
       "    }\n",
       "</style>\n",
       "<table border=\"1\" class=\"dataframe\">\n",
       "  <thead>\n",
       "    <tr style=\"text-align: right;\">\n",
       "      <th></th>\n",
       "      <th>offer_id</th>\n",
       "      <th>Descricao</th>\n",
       "    </tr>\n",
       "  </thead>\n",
       "  <tbody>\n",
       "    <tr>\n",
       "      <th>0</th>\n",
       "      <td>b'\\xf3\\x91\\xf2\\xcb\\xa2RP\\xe5\\x81\\xf0\\xd2\\xd7\\x...</td>\n",
       "      <td>ração seca premier pet ambientes internos salm...</td>\n",
       "    </tr>\n",
       "    <tr>\n",
       "      <th>1</th>\n",
       "      <td>b'\\xce\\xcd&lt;\\x90.\\xdf\\r\\xb3lc\\x1a\\xaf\\xb2\\x7f)\\...</td>\n",
       "      <td>ração royal canin exigent para gatos adultos c...</td>\n",
       "    </tr>\n",
       "  </tbody>\n",
       "</table>\n",
       "</div>"
      ],
      "text/plain": [
       "                                            offer_id  \\\n",
       "0  b'\\xf3\\x91\\xf2\\xcb\\xa2RP\\xe5\\x81\\xf0\\xd2\\xd7\\x...   \n",
       "1  b'\\xce\\xcd<\\x90.\\xdf\\r\\xb3lc\\x1a\\xaf\\xb2\\x7f)\\...   \n",
       "\n",
       "                                           Descricao  \n",
       "0  ração seca premier pet ambientes internos salm...  \n",
       "1  ração royal canin exigent para gatos adultos c...  "
      ]
     },
     "execution_count": 4,
     "metadata": {},
     "output_type": "execute_result"
    }
   ],
   "source": [
    "offers.head(2)"
   ]
  },
  {
   "cell_type": "code",
   "execution_count": 5,
   "metadata": {},
   "outputs": [],
   "source": [
    "from nltk.tokenize import word_tokenize"
   ]
  },
  {
   "cell_type": "code",
   "execution_count": 6,
   "metadata": {},
   "outputs": [],
   "source": [
    "offers[\"Sabores\"] = offers['Descricao'].apply(word_tokenize) "
   ]
  },
  {
   "cell_type": "code",
   "execution_count": 7,
   "metadata": {},
   "outputs": [
    {
     "data": {
      "text/plain": [
       "['ração',\n",
       " 'royal',\n",
       " 'canin',\n",
       " 'exigent',\n",
       " 'para',\n",
       " 'gatos',\n",
       " 'adultos',\n",
       " 'com',\n",
       " 'paladar',\n",
       " 'exigente']"
      ]
     },
     "execution_count": 7,
     "metadata": {},
     "output_type": "execute_result"
    }
   ],
   "source": [
    "word_tokenize(offers[\"Descricao\"][1])"
   ]
  },
  {
   "cell_type": "code",
   "execution_count": 8,
   "metadata": {},
   "outputs": [],
   "source": [
    "import spacy\n",
    "nlp = spacy.load(\"pt_core_news_lg\")"
   ]
  },
  {
   "cell_type": "markdown",
   "metadata": {},
   "source": [
    "#### Similarity"
   ]
  },
  {
   "cell_type": "code",
   "execution_count": 9,
   "metadata": {},
   "outputs": [
    {
     "name": "stdout",
     "output_type": "stream",
     "text": [
      "ração 0.5075243337344716\n",
      "royal -0.02736204134551323\n",
      "canin 0.0\n",
      "exigent 0.0\n",
      "para 0.10003670491914987\n",
      "gatos 0.27396940681317006\n",
      "adultos 0.15703508530882343\n",
      "com 0.03491110062039592\n",
      "paladar 0.3497222246583097\n",
      "exigente 0.21890106474824528\n"
     ]
    },
    {
     "name": "stderr",
     "output_type": "stream",
     "text": [
      "C:\\Users\\Daniel\\AppData\\Local\\Temp\\ipykernel_9520\\4078749257.py:2: UserWarning: [W008] Evaluating Doc.similarity based on empty vectors.\n",
      "  sim_score = nlp(word).similarity(nlp(\"carne\"))\n"
     ]
    }
   ],
   "source": [
    "for word in offers[\"Sabores\"][0]:\n",
    "    sim_score = nlp(word).similarity(nlp(\"carne\"))\n",
    "    print(word, sim_score)"
   ]
  },
  {
   "cell_type": "code",
   "execution_count": null,
   "metadata": {},
   "outputs": [],
   "source": [
    "descricoes = ' '.join(offers['Descricao'])\n",
    "words = list(set(word_tokenize(descricoes))) # Lista distinta de tokens\n",
    "print(len(words))"
   ]
  },
  {
   "cell_type": "markdown",
   "metadata": {},
   "source": [
    "#### All words"
   ]
  },
  {
   "cell_type": "code",
   "execution_count": null,
   "metadata": {},
   "outputs": [],
   "source": [
    "import nltk\n",
    "from nltk.corpus import stopwords\n",
    "stop_words = set(stopwords.words('portuguese'))"
   ]
  },
  {
   "cell_type": "code",
   "execution_count": null,
   "metadata": {},
   "outputs": [],
   "source": [
    "import re\n",
    "\n",
    "def remove_stopwords_and_numbers(words):\n",
    "    filtered_tokens = []\n",
    "    for token in words:\n",
    "        # Verifique se o token não é uma stop word e não é um número\n",
    "        if token.lower() not in stop_words and not re.match(r'^\\d+(?:\\.\\d+)?$', token):\n",
    "            filtered_tokens.append(token)\n",
    "    return filtered_tokens\n",
    "\n",
    "tokens_sem_stopwords_e_numeros = remove_stopwords_and_numbers(words)\n",
    "print(len(tokens_sem_stopwords_e_numeros))\n",
    "tokens_sem_stopwords_e_numeros"
   ]
  },
  {
   "cell_type": "code",
   "execution_count": null,
   "metadata": {},
   "outputs": [],
   "source": [
    "df = pd.DataFrame(tokens_sem_stopwords_e_numeros)\n",
    "df.to_csv('xaxaxa.csv', index=False)"
   ]
  },
  {
   "cell_type": "code",
   "execution_count": null,
   "metadata": {},
   "outputs": [],
   "source": [
    "offers[\"Sabores\"][1]"
   ]
  },
  {
   "cell_type": "markdown",
   "metadata": {},
   "source": [
    "#### Teste"
   ]
  },
  {
   "cell_type": "code",
   "execution_count": 22,
   "metadata": {},
   "outputs": [],
   "source": [
    "sabores = []\n",
    "doc = nlp(offers[\"Descricao\"][0])\n",
    "\n",
    "# Itere pelas entidades nomeadas no texto\n",
    "for entidade in doc.ents:\n",
    "    if entidade.label_ == \"sabor\":  # Verifique se a entidade é um sabor\n",
    "        sabores.append(entidade.text)"
   ]
  },
  {
   "cell_type": "code",
   "execution_count": 19,
   "metadata": {},
   "outputs": [
    {
     "data": {
      "text/plain": [
       "[]"
      ]
     },
     "execution_count": 19,
     "metadata": {},
     "output_type": "execute_result"
    }
   ],
   "source": [
    "sabores"
   ]
  },
  {
   "cell_type": "code",
   "execution_count": 24,
   "metadata": {},
   "outputs": [
    {
     "data": {
      "text/plain": [
       "()"
      ]
     },
     "execution_count": 24,
     "metadata": {},
     "output_type": "execute_result"
    }
   ],
   "source": [
    "doc.ents"
   ]
  }
 ],
 "metadata": {
  "kernelspec": {
   "display_name": ".venv",
   "language": "python",
   "name": "python3"
  },
  "language_info": {
   "codemirror_mode": {
    "name": "ipython",
    "version": 3
   },
   "file_extension": ".py",
   "mimetype": "text/x-python",
   "name": "python",
   "nbconvert_exporter": "python",
   "pygments_lexer": "ipython3",
   "version": "3.11.5"
  },
  "orig_nbformat": 4
 },
 "nbformat": 4,
 "nbformat_minor": 2
}

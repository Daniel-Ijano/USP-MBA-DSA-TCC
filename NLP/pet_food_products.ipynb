{
 "cells": [
  {
   "cell_type": "code",
   "execution_count": 3,
   "metadata": {},
   "outputs": [],
   "source": [
    "import pandas as pd\n",
    "from google.cloud import bigquery\n",
    "from google.oauth2 import service_account"
   ]
  },
  {
   "cell_type": "markdown",
   "metadata": {},
   "source": [
    "#### Ler tabela do Google Big Query"
   ]
  },
  {
   "cell_type": "code",
   "execution_count": 7,
   "metadata": {},
   "outputs": [],
   "source": [
    "# Create the connection with Google Cloud\n",
    "def create_connection():\n",
    "        # Set the credentials and create the connection\n",
    "        key_path = \"../usp-mba-dsa-tcc-4277103d9155.json\"\n",
    "\n",
    "        credentials = service_account.Credentials.from_service_account_file(\n",
    "            key_path,\n",
    "            scopes=[\"https://www.googleapis.com/auth/bigquery\"]\n",
    "        )\n",
    "\n",
    "        client = bigquery.Client(\n",
    "            credentials=credentials,\n",
    "            project=credentials.project_id,\n",
    "        )\n",
    "        return client\n",
    "\n",
    "client = create_connection()"
   ]
  },
  {
   "cell_type": "code",
   "execution_count": 11,
   "metadata": {},
   "outputs": [],
   "source": [
    "# Perform a query.\n",
    "QUERY = (\n",
    "    'SELECT * FROM `usp-mba-dsa-tcc.ecommerce_offers.vw_dim_offers`'\n",
    ")\n",
    "query_job = client.query(QUERY)  # API request\n",
    "rows = query_job.result()  # Waits for query to finish\n",
    "\n",
    "df = rows.to_dataframe()"
   ]
  },
  {
   "cell_type": "code",
   "execution_count": 18,
   "metadata": {},
   "outputs": [
    {
     "data": {
      "text/html": [
       "<div>\n",
       "<style scoped>\n",
       "    .dataframe tbody tr th:only-of-type {\n",
       "        vertical-align: middle;\n",
       "    }\n",
       "\n",
       "    .dataframe tbody tr th {\n",
       "        vertical-align: top;\n",
       "    }\n",
       "\n",
       "    .dataframe thead th {\n",
       "        text-align: right;\n",
       "    }\n",
       "</style>\n",
       "<table border=\"1\" class=\"dataframe\">\n",
       "  <thead>\n",
       "    <tr style=\"text-align: right;\">\n",
       "      <th></th>\n",
       "      <th>offer_id</th>\n",
       "      <th>Loja</th>\n",
       "      <th>Especie</th>\n",
       "      <th>Categoria</th>\n",
       "      <th>Marca</th>\n",
       "      <th>URL</th>\n",
       "      <th>SKU</th>\n",
       "      <th>Titulo</th>\n",
       "      <th>Descricao</th>\n",
       "      <th>pkg_size</th>\n",
       "      <th>title_pkg_size</th>\n",
       "      <th>pkg_value</th>\n",
       "      <th>pkg_unit</th>\n",
       "      <th>title_pkg_value</th>\n",
       "      <th>title_pkg_unit</th>\n",
       "    </tr>\n",
       "  </thead>\n",
       "  <tbody>\n",
       "    <tr>\n",
       "      <th>0</th>\n",
       "      <td>b'\\xd5\\x87\\xd5\\xab\\xce\\xa3\\xf7Fw\\x0e\\x12w4\\xdd...</td>\n",
       "      <td>Cobasi</td>\n",
       "      <td>Cachorro</td>\n",
       "      <td>Racao Umida</td>\n",
       "      <td>Origem Natural</td>\n",
       "      <td>https://www.cobasi.com.br/racao-umida-para-cae...</td>\n",
       "      <td>31000322</td>\n",
       "      <td>Ração Úmida para Cães Adultos Joy Origem Natur...</td>\n",
       "      <td>Ração Úmida para Cães Adultos Joy Origem Natur...</td>\n",
       "      <td>300g</td>\n",
       "      <td>300g</td>\n",
       "      <td>300</td>\n",
       "      <td>g</td>\n",
       "      <td>300</td>\n",
       "      <td>g</td>\n",
       "    </tr>\n",
       "    <tr>\n",
       "      <th>1</th>\n",
       "      <td>b'%\\xe19\\xcd\\xea\\xae\\xd9\\x98\\x82n\\xa6\\xf4M\\x9f...</td>\n",
       "      <td>Cobasi</td>\n",
       "      <td>Cachorro</td>\n",
       "      <td>Racao Umida</td>\n",
       "      <td>Origem Natural</td>\n",
       "      <td>https://www.cobasi.com.br/racao-umida-para-cae...</td>\n",
       "      <td>31000330</td>\n",
       "      <td>Ração Úmida para Cães Filhotes Joy Origem Nature</td>\n",
       "      <td>Ração Úmida para Cães Filhotes Joy Origem Natu...</td>\n",
       "      <td>300g</td>\n",
       "      <td>300g</td>\n",
       "      <td>300</td>\n",
       "      <td>g</td>\n",
       "      <td>300</td>\n",
       "      <td>g</td>\n",
       "    </tr>\n",
       "  </tbody>\n",
       "</table>\n",
       "</div>"
      ],
      "text/plain": [
       "                                            offer_id    Loja   Especie  \\\n",
       "0  b'\\xd5\\x87\\xd5\\xab\\xce\\xa3\\xf7Fw\\x0e\\x12w4\\xdd...  Cobasi  Cachorro   \n",
       "1  b'%\\xe19\\xcd\\xea\\xae\\xd9\\x98\\x82n\\xa6\\xf4M\\x9f...  Cobasi  Cachorro   \n",
       "\n",
       "     Categoria           Marca  \\\n",
       "0  Racao Umida  Origem Natural   \n",
       "1  Racao Umida  Origem Natural   \n",
       "\n",
       "                                                 URL       SKU  \\\n",
       "0  https://www.cobasi.com.br/racao-umida-para-cae...  31000322   \n",
       "1  https://www.cobasi.com.br/racao-umida-para-cae...  31000330   \n",
       "\n",
       "                                              Titulo  \\\n",
       "0  Ração Úmida para Cães Adultos Joy Origem Natur...   \n",
       "1   Ração Úmida para Cães Filhotes Joy Origem Nature   \n",
       "\n",
       "                                           Descricao pkg_size title_pkg_size  \\\n",
       "0  Ração Úmida para Cães Adultos Joy Origem Natur...     300g           300g   \n",
       "1  Ração Úmida para Cães Filhotes Joy Origem Natu...     300g           300g   \n",
       "\n",
       "  pkg_value pkg_unit title_pkg_value title_pkg_unit  \n",
       "0       300        g             300              g  \n",
       "1       300        g             300              g  "
      ]
     },
     "execution_count": 18,
     "metadata": {},
     "output_type": "execute_result"
    }
   ],
   "source": [
    "df.head(2)"
   ]
  },
  {
   "cell_type": "code",
   "execution_count": 79,
   "metadata": {},
   "outputs": [
    {
     "name": "stderr",
     "output_type": "stream",
     "text": [
      "C:\\Users\\Daniel\\AppData\\Local\\Temp\\ipykernel_7792\\1758800979.py:6: SettingWithCopyWarning: \n",
      "A value is trying to be set on a copy of a slice from a DataFrame.\n",
      "Try using .loc[row_indexer,col_indexer] = value instead\n",
      "\n",
      "See the caveats in the documentation: https://pandas.pydata.org/pandas-docs/stable/user_guide/indexing.html#returning-a-view-versus-a-copy\n",
      "  offers['Oferta'] = offers['Oferta'].astype(str).str.split().apply(lambda x: ' '.join(OrderedDict.fromkeys(x).keys()))\n"
     ]
    }
   ],
   "source": [
    "# Creating a copy of the dataframe and editing\n",
    "offers=df\n",
    "offers[\"Oferta\"] = offers['Especie'] + \" \" + offers['Categoria'] + \" \" + offers['Marca'] + \" \" + offers['pkg_size'] + \" \" + offers['Descricao']\n",
    "offers = offers[['Loja', 'offer_id', 'URL', 'Oferta']]\n",
    "\n",
    "# Remove duplicate words inside each cell\n",
    "from collections import OrderedDict\n",
    "offers['Oferta'] = offers['Oferta'].astype(str).str.split().apply(lambda x: ' '.join(OrderedDict.fromkeys(x).keys()))"
   ]
  },
  {
   "cell_type": "code",
   "execution_count": 80,
   "metadata": {},
   "outputs": [
    {
     "data": {
      "text/html": [
       "<div>\n",
       "<style scoped>\n",
       "    .dataframe tbody tr th:only-of-type {\n",
       "        vertical-align: middle;\n",
       "    }\n",
       "\n",
       "    .dataframe tbody tr th {\n",
       "        vertical-align: top;\n",
       "    }\n",
       "\n",
       "    .dataframe thead th {\n",
       "        text-align: right;\n",
       "    }\n",
       "</style>\n",
       "<table border=\"1\" class=\"dataframe\">\n",
       "  <thead>\n",
       "    <tr style=\"text-align: right;\">\n",
       "      <th></th>\n",
       "      <th>Loja</th>\n",
       "      <th>offer_id</th>\n",
       "      <th>URL</th>\n",
       "      <th>Oferta</th>\n",
       "    </tr>\n",
       "  </thead>\n",
       "  <tbody>\n",
       "    <tr>\n",
       "      <th>0</th>\n",
       "      <td>Cobasi</td>\n",
       "      <td>b'\\xd5\\x87\\xd5\\xab\\xce\\xa3\\xf7Fw\\x0e\\x12w4\\xdd...</td>\n",
       "      <td>https://www.cobasi.com.br/racao-umida-para-cae...</td>\n",
       "      <td>Cachorro Racao Umida Origem Natural 300g Ração...</td>\n",
       "    </tr>\n",
       "    <tr>\n",
       "      <th>1</th>\n",
       "      <td>Cobasi</td>\n",
       "      <td>b'%\\xe19\\xcd\\xea\\xae\\xd9\\x98\\x82n\\xa6\\xf4M\\x9f...</td>\n",
       "      <td>https://www.cobasi.com.br/racao-umida-para-cae...</td>\n",
       "      <td>Cachorro Racao Umida Origem Natural 300g Ração...</td>\n",
       "    </tr>\n",
       "  </tbody>\n",
       "</table>\n",
       "</div>"
      ],
      "text/plain": [
       "     Loja                                           offer_id  \\\n",
       "0  Cobasi  b'\\xd5\\x87\\xd5\\xab\\xce\\xa3\\xf7Fw\\x0e\\x12w4\\xdd...   \n",
       "1  Cobasi  b'%\\xe19\\xcd\\xea\\xae\\xd9\\x98\\x82n\\xa6\\xf4M\\x9f...   \n",
       "\n",
       "                                                 URL  \\\n",
       "0  https://www.cobasi.com.br/racao-umida-para-cae...   \n",
       "1  https://www.cobasi.com.br/racao-umida-para-cae...   \n",
       "\n",
       "                                              Oferta  \n",
       "0  Cachorro Racao Umida Origem Natural 300g Ração...  \n",
       "1  Cachorro Racao Umida Origem Natural 300g Ração...  "
      ]
     },
     "execution_count": 80,
     "metadata": {},
     "output_type": "execute_result"
    }
   ],
   "source": [
    "offers.head(2)"
   ]
  },
  {
   "cell_type": "code",
   "execution_count": 84,
   "metadata": {},
   "outputs": [
    {
     "name": "stdout",
     "output_type": "stream",
     "text": [
      "Cachorro Racao Umida Origem Natural 300g Ração Úmida para Cães Adultos Joy Nature Hipercalórica 300 g\n"
     ]
    }
   ],
   "source": [
    "print(offers[\"Oferta\"][0])"
   ]
  },
  {
   "cell_type": "markdown",
   "metadata": {},
   "source": [
    "#### Import Language Model"
   ]
  },
  {
   "cell_type": "code",
   "execution_count": 19,
   "metadata": {},
   "outputs": [],
   "source": [
    "# https://spacy.io/models/pt#pt_core_news_lg\n",
    "import spacy\n",
    "nlp = spacy.load(\"pt_core_news_lg\")"
   ]
  },
  {
   "cell_type": "code",
   "execution_count": 34,
   "metadata": {},
   "outputs": [
    {
     "data": {
      "text/plain": [
       "0.6894072890281677"
      ]
     },
     "execution_count": 34,
     "metadata": {},
     "output_type": "execute_result"
    }
   ],
   "source": [
    "w1 = \"banana\"\n",
    "w2 = \"mamão\"\n",
    "\n",
    "# Transform into spacy object\n",
    "w1 = nlp.vocab[w1]\n",
    "w2 = nlp.vocab[w2]\n",
    "\n",
    "w1.similarity(w2)"
   ]
  },
  {
   "cell_type": "code",
   "execution_count": 50,
   "metadata": {},
   "outputs": [
    {
     "data": {
      "text/plain": [
       "0.8842713063123244"
      ]
     },
     "execution_count": 50,
     "metadata": {},
     "output_type": "execute_result"
    }
   ],
   "source": [
    "#Hx/o//XEL8KnXyhZfnMRDK55G+AoABfz3kKwGJLKAx8=\n",
    "offer1 = nlp(\"Ração Naturalis Lifebites Cães Filhotes Porte Pequeno Peru, Frango, Legumes e Frutas 1kg\")\n",
    "\n",
    "#UTZQ/dqXqO94qscRScp/6ehZY6hZmnWKmeSatqM7QVw=\n",
    "offer2 = nlp(\"Ração Seca Total Naturalis Peru, Frango e Frutas para Cães Adultos Porte Pequeno - 1 Kg\")\n",
    "\n",
    "offer1.similarity(offer2)"
   ]
  },
  {
   "cell_type": "code",
   "execution_count": 51,
   "metadata": {},
   "outputs": [
    {
     "data": {
      "text/plain": [
       "0.992868997469065"
      ]
     },
     "execution_count": 51,
     "metadata": {},
     "output_type": "execute_result"
    }
   ],
   "source": [
    "#N954En5srMC24fi4K/3au+jmzCuc6guQx7x1IYwDvM0=\n",
    "offer2 = nlp(\"Ração Naturalis Lifebites Cães Sênior Porte Pequeno Peru, Frango, Legumes e Frutas 1kg\")\n",
    "offer1.similarity(offer2)"
   ]
  },
  {
   "cell_type": "code",
   "execution_count": 52,
   "metadata": {},
   "outputs": [
    {
     "data": {
      "text/plain": [
       "0.7457927405154836"
      ]
     },
     "execution_count": 52,
     "metadata": {},
     "output_type": "execute_result"
    }
   ],
   "source": [
    "#fTRC8JQlzMAhL3qgENIRP0HJz2x+QbmoWUqfvyX1cfs=\n",
    "offer2 = nlp(\"Ração Úmida Fórmula Natural Vet Care Recuperação para Cães e Gatos 270 g\")\n",
    "offer1.similarity(offer2)"
   ]
  },
  {
   "cell_type": "code",
   "execution_count": 53,
   "metadata": {},
   "outputs": [
    {
     "data": {
      "text/plain": [
       "0.9135871309459083"
      ]
     },
     "execution_count": 53,
     "metadata": {},
     "output_type": "execute_result"
    }
   ],
   "source": [
    "#qB1kHKxZOmz4J6A/OfWybRC260BtjXb0vm/9q4SlM1I=\n",
    "offer2 = nlp(\"Ração Naturalis Lifebites Cães Adultos Porte Médio e Grande Peru, Frango, Legumes e Frutas 2,5kg\")\n",
    "offer1.similarity(offer2)"
   ]
  },
  {
   "cell_type": "code",
   "execution_count": 47,
   "metadata": {},
   "outputs": [
    {
     "data": {
      "text/plain": [
       "0.7833030219414631"
      ]
     },
     "execution_count": 47,
     "metadata": {},
     "output_type": "execute_result"
    }
   ],
   "source": [
    "#yfkeevB9AQTAnuC97yDgi7DWo8H/anZQ57/QHngrKLY=\n",
    "offer2 = nlp(\"Ração Naturalis Lifebites Gatos Adultos Peru, Frango e Frutas 1,5kg\")\n",
    "offer1.similarity(offer2)"
   ]
  },
  {
   "cell_type": "code",
   "execution_count": 54,
   "metadata": {},
   "outputs": [
    {
     "data": {
      "text/plain": [
       "0.9880225975281419"
      ]
     },
     "execution_count": 54,
     "metadata": {},
     "output_type": "execute_result"
    }
   ],
   "source": [
    "#KlqW6FrilTY99taOFOyzXbwjXgR/2SkyRzNaYUlFIHA=\n",
    "offer2 = nlp(\"Ração Naturalis Cães Filhotes Pequeno Porte Peru, Frango e Frutas 1 kg\")\n",
    "offer1.similarity(offer2)"
   ]
  },
  {
   "cell_type": "code",
   "execution_count": 89,
   "metadata": {},
   "outputs": [
    {
     "name": "stdout",
     "output_type": "stream",
     "text": [
      "Cachorro Racao Umida Origem Natural 300g Ração Úmida para Cães Adultos Joy Nature Hipercalórica 300 g\n",
      "Cachorro Racao Umida Joy 280g Ração Úmida Patê para Cães Adultos Carne e Vegetais 280 g\n",
      "0.9347718981637252\n"
     ]
    }
   ],
   "source": [
    "offer1 = nlp(offers[\"Oferta\"][0])\n",
    "offer2 = nlp(offers[\"Oferta\"][3])\n",
    "\n",
    "print(f\"{offer1}\\n{offer2}\\n{offer1.similarity(offer2)}\")\n"
   ]
  }
 ],
 "metadata": {
  "kernelspec": {
   "display_name": ".venv",
   "language": "python",
   "name": "python3"
  },
  "language_info": {
   "codemirror_mode": {
    "name": "ipython",
    "version": 3
   },
   "file_extension": ".py",
   "mimetype": "text/x-python",
   "name": "python",
   "nbconvert_exporter": "python",
   "pygments_lexer": "ipython3",
   "version": "3.11.5"
  },
  "orig_nbformat": 4
 },
 "nbformat": 4,
 "nbformat_minor": 2
}

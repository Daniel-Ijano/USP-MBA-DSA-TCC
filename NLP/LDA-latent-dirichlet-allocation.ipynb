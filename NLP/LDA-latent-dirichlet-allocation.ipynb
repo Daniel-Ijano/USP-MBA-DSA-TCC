{
 "cells": [
  {
   "cell_type": "code",
   "execution_count": 1,
   "metadata": {},
   "outputs": [],
   "source": [
    "import pandas as pd\n",
    "import numpy as np\n",
    "from nltk.corpus import stopwords\n",
    "from nltk.tokenize import word_tokenize\n",
    "from nltk.stem import PorterStemmer\n",
    "from sklearn.feature_extraction.text import CountVectorizer\n",
    "import gensim\n",
    "from gensim.models import LdaModel"
   ]
  },
  {
   "cell_type": "code",
   "execution_count": 2,
   "metadata": {},
   "outputs": [
    {
     "name": "stderr",
     "output_type": "stream",
     "text": [
      "C:\\Users\\danie\\AppData\\Local\\Temp\\ipykernel_16732\\2065843896.py:11: UserWarning: pandas only supports SQLAlchemy connectable (engine/connection) or database string URI or sqlite3 DBAPI2 connection. Other DBAPI2 objects are not tested. Please consider using SQLAlchemy.\n",
      "  news_data = pd.read_sql(query, con=conn)\n"
     ]
    }
   ],
   "source": [
    "import cx_Oracle\n",
    "conn = cx_Oracle.connect(\"admin\", \"Onlin3#onlin3#\", \"adbnews_high\")\n",
    "\n",
    "query = \"\"\"\n",
    "    SELECT *\n",
    "    FROM tb_news_valor_economico\n",
    "\"\"\"\n",
    "#curr = conn.cursor()\n",
    "#curr.execute(query)\n",
    "\n",
    "news_data = pd.read_sql(query, con=conn)\n",
    "conn.close()"
   ]
  },
  {
   "cell_type": "code",
   "execution_count": 3,
   "metadata": {},
   "outputs": [],
   "source": [
    "import hashlib\n",
    "\n",
    "news_data[\"publication_id\"] = news_data[\"URL\"].apply(lambda x: hashlib.md5(x.encode()).hexdigest())"
   ]
  },
  {
   "cell_type": "code",
   "execution_count": 4,
   "metadata": {},
   "outputs": [],
   "source": [
    "# Remova as linhas onde o valor da coluna \"SUMMARY\" é NaN ou vazio\n",
    "news_data.dropna(subset=['SUMMARY'], inplace=True)\n",
    "news_data = news_data[news_data['SUMMARY'].apply(lambda x: x.strip() != '')]"
   ]
  },
  {
   "cell_type": "code",
   "execution_count": 5,
   "metadata": {},
   "outputs": [],
   "source": [
    "# Defina sua lista de stop words\n",
    "stop_words = set(stopwords.words('portuguese'))"
   ]
  },
  {
   "cell_type": "code",
   "execution_count": 6,
   "metadata": {},
   "outputs": [],
   "source": [
    "# Defina uma função para remover stop words\n",
    "def remove_stop_words(text):\n",
    "    tokens = text.split()\n",
    "    tokens = [word for word in tokens if word.lower() not in stop_words]\n",
    "    return ' '.join(tokens)"
   ]
  },
  {
   "cell_type": "code",
   "execution_count": 7,
   "metadata": {},
   "outputs": [],
   "source": [
    "# Transformando em minusculas\n",
    "news_data['NEW_SUMMARY'] = news_data['SUMMARY'].apply(str.lower)"
   ]
  },
  {
   "cell_type": "code",
   "execution_count": 8,
   "metadata": {},
   "outputs": [],
   "source": [
    "# Defina a lista de pontuação para remoção\n",
    "import string\n",
    "punctuation = string.punctuation"
   ]
  },
  {
   "cell_type": "code",
   "execution_count": 9,
   "metadata": {},
   "outputs": [],
   "source": [
    "# Defina uma função para remover a pontuação\n",
    "def remove_punctuation(text):\n",
    "    return ''.join([char for char in text if char not in punctuation])"
   ]
  },
  {
   "cell_type": "code",
   "execution_count": 10,
   "metadata": {},
   "outputs": [],
   "source": [
    "# Aplique a função remove_punctuation à coluna NEW_SUMMARY do dataframe\n",
    "news_data['NEW_SUMMARY'] = news_data['NEW_SUMMARY'].apply(remove_punctuation)"
   ]
  },
  {
   "cell_type": "code",
   "execution_count": 11,
   "metadata": {},
   "outputs": [],
   "source": [
    "# Aplique a função de remoção de stop words à coluna de texto da base de dados\n",
    "news_data['text_processed'] = news_data['NEW_SUMMARY'].apply(remove_stop_words)"
   ]
  },
  {
   "cell_type": "code",
   "execution_count": 12,
   "metadata": {},
   "outputs": [],
   "source": [
    "# Defina o objeto de processamento de stemming\n",
    "stemmer = PorterStemmer()"
   ]
  },
  {
   "cell_type": "code",
   "execution_count": 13,
   "metadata": {},
   "outputs": [],
   "source": [
    "# Defina uma função para pré-processar os dados\n",
    "def preprocess(text):\n",
    "    tokens = word_tokenize(text)\n",
    "    stemmed_tokens = [stemmer.stem(word) for word in tokens]\n",
    "    return ' '.join(stemmed_tokens)"
   ]
  },
  {
   "cell_type": "code",
   "execution_count": 14,
   "metadata": {},
   "outputs": [],
   "source": [
    "# Crie um objeto CountVectorizer\n",
    "vectorizer = CountVectorizer()"
   ]
  },
  {
   "cell_type": "code",
   "execution_count": 15,
   "metadata": {},
   "outputs": [],
   "source": [
    "# Aplique a função de pré-processamento à coluna de texto da base de dados\n",
    "news_data['text_stemmed'] = news_data['text_processed'].apply(preprocess)"
   ]
  },
  {
   "cell_type": "code",
   "execution_count": 16,
   "metadata": {},
   "outputs": [],
   "source": [
    "# Aplique o CountVectorizer à coluna de texto processado da base de dados\n",
    "dtm = vectorizer.fit_transform(news_data['text_stemmed'])"
   ]
  },
  {
   "cell_type": "code",
   "execution_count": 17,
   "metadata": {},
   "outputs": [],
   "source": [
    "# Converta o Document-Term Matrix para um objeto gensim corpus\n",
    "corpus = gensim.matutils.Sparse2Corpus(dtm)"
   ]
  },
  {
   "cell_type": "code",
   "execution_count": 18,
   "metadata": {},
   "outputs": [],
   "source": [
    "# Crie um objeto Dictionário\n",
    "id2word = dict((v, k) for k, v in vectorizer.vocabulary_.items())"
   ]
  },
  {
   "cell_type": "code",
   "execution_count": 19,
   "metadata": {},
   "outputs": [],
   "source": [
    "# Crie o modelo LDA\n",
    "lda = LdaModel(corpus=corpus, id2word=id2word, num_topics=10, passes=50)"
   ]
  },
  {
   "cell_type": "code",
   "execution_count": 20,
   "metadata": {},
   "outputs": [
    {
     "name": "stdout",
     "output_type": "stream",
     "text": [
      "(0, '0.014*\"empregará\" + 0.008*\"excepcionalidad\" + 0.008*\"administrativa\" + 0.008*\"172080\" + 0.008*\"celebrava\" + 0.008*\"entregu\" + 0.008*\"azar\" + 0.008*\"coreana\" + 0.008*\"gued\" + 0.007*\"depredaçõ\"')\n",
      "(1, '0.009*\"carbocloro\" + 0.009*\"13715\" + 0.008*\"fratura\" + 0.005*\"eventualment\" + 0.005*\"7317\" + 0.005*\"convocaria\" + 0.005*\"escalado\" + 0.005*\"lament\" + 0.005*\"demissõ\" + 0.005*\"caiu\"')\n",
      "(2, '0.007*\"atrapalh\" + 0.004*\"criará\" + 0.004*\"001\" + 0.004*\"espontânea\" + 0.004*\"am\" + 0.004*\"1431\" + 0.004*\"brasília\" + 0.004*\"infantil\" + 0.004*\"acertando\" + 0.004*\"acompanharam\"')\n",
      "(3, '0.006*\"frota\" + 0.005*\"cratera\" + 0.005*\"2009\" + 0.005*\"irritado\" + 0.005*\"18231\" + 0.005*\"festiv\" + 0.005*\"151\" + 0.005*\"honra\" + 0.005*\"835\" + 0.005*\"candidato\"')\n",
      "(4, '0.011*\"imprudent\" + 0.008*\"decidirem\" + 0.008*\"mango\" + 0.008*\"importado\" + 0.008*\"causar\" + 0.008*\"agrad\" + 0.008*\"cobra\" + 0.008*\"deixaram\" + 0.008*\"dstribuidora\" + 0.008*\"devida\"')\n",
      "(5, '0.012*\"encerrando\" + 0.009*\"exager\" + 0.009*\"100\" + 0.005*\"altista\" + 0.005*\"daí\" + 0.005*\"cuidar\" + 0.005*\"maio\" + 0.005*\"diniz\" + 0.005*\"eficient\" + 0.005*\"alex\"')\n",
      "(6, '0.009*\"completament\" + 0.009*\"correlação\" + 0.006*\"999\" + 0.006*\"1101489\" + 0.005*\"abismo\" + 0.005*\"furiosa\" + 0.005*\"fitzpatrick\" + 0.005*\"dispositivo\" + 0.005*\"detect\" + 0.005*\"hipotético\"')\n",
      "(7, '0.006*\"genérica\" + 0.006*\"controlador\" + 0.006*\"exerceu\" + 0.006*\"mandou\" + 0.006*\"equip\" + 0.006*\"depositado\" + 0.006*\"característica\" + 0.006*\"disputará\" + 0.006*\"argumenta\" + 0.006*\"considerada\"')\n",
      "(8, '0.016*\"lealdad\" + 0.015*\"kg\" + 0.009*\"devedor\" + 0.009*\"coordenadorager\" + 0.009*\"encontro\" + 0.009*\"abrdn\" + 0.008*\"lent\" + 0.008*\"jr\" + 0.008*\"descobriram\" + 0.008*\"gostaria\"')\n",
      "(9, '0.007*\"endereço\" + 0.007*\"janot\" + 0.007*\"central\" + 0.007*\"elaborado\" + 0.004*\"incluirá\" + 0.004*\"imun\" + 0.004*\"desestabilização\" + 0.004*\"do\" + 0.004*\"comparecia\" + 0.004*\"12595\"')\n"
     ]
    }
   ],
   "source": [
    "# Visualize os tópicos identificados pelo LDA\n",
    "for topic in lda.print_topics():\n",
    "    print(topic)"
   ]
  },
  {
   "attachments": {},
   "cell_type": "markdown",
   "metadata": {},
   "source": [
    "NEXT\n",
    "https://www.youtube.com/watch?v=TKjjlp5_r7o"
   ]
  }
 ],
 "metadata": {
  "kernelspec": {
   "display_name": "Projects",
   "language": "python",
   "name": "python3"
  },
  "language_info": {
   "codemirror_mode": {
    "name": "ipython",
    "version": 3
   },
   "file_extension": ".py",
   "mimetype": "text/x-python",
   "name": "python",
   "nbconvert_exporter": "python",
   "pygments_lexer": "ipython3",
   "version": "3.11.1"
  },
  "orig_nbformat": 4,
  "vscode": {
   "interpreter": {
    "hash": "7d0c1e7021d0d945e32e4601c0d213aa2179a77d854ec4fa48d4f46f348dcb60"
   }
  }
 },
 "nbformat": 4,
 "nbformat_minor": 2
}

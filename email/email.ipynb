{
 "cells": [
  {
   "cell_type": "markdown",
   "metadata": {},
   "source": [
    "#### Email simples"
   ]
  },
  {
   "cell_type": "code",
   "execution_count": 1,
   "metadata": {},
   "outputs": [],
   "source": [
    "# PESQUISAR\n",
    "# https://realpython.com/python-send-email/\n",
    "\n",
    "# Importação das bibliotecas\n",
    "import pandas as pd\n",
    "import win32com.client as win32\n",
    "from google.cloud import bigquery\n",
    "from google.oauth2 import service_account"
   ]
  },
  {
   "cell_type": "code",
   "execution_count": 2,
   "metadata": {},
   "outputs": [],
   "source": [
    "outlook = win32.Dispatch('outlook.application')\n",
    "mail = outlook.CreateItem(0)"
   ]
  },
  {
   "cell_type": "code",
   "execution_count": 3,
   "metadata": {},
   "outputs": [],
   "source": [
    "# \n",
    "var1 = \"SORRIA\"\n",
    "mail.To = \"daniel_ijano@hotmail.com\"\n",
    "mail.Subject = \"Assunto\"\n",
    "mail.HTMLBody = f\"\"\"\n",
    "<p>Bodia raio disol\n",
    "{var1}\n",
    "<p>:)\n",
    "\"\"\"\n",
    "\n",
    "# anexo = \"C://Users/blablabla/arquivo.file\"\n",
    "# email.Attachments.Add(anexo)\n",
    "\n",
    "#mail.Send()"
   ]
  },
  {
   "cell_type": "markdown",
   "metadata": {},
   "source": [
    "#### Iterando"
   ]
  },
  {
   "cell_type": "code",
   "execution_count": 4,
   "metadata": {},
   "outputs": [],
   "source": [
    "# Create the connection with Google Cloud\n",
    "def create_connection():\n",
    "        # Set the credentials and create the connection\n",
    "        key_path = \"../usp-mba-dsa-tcc-4277103d9155.json\"\n",
    "\n",
    "        credentials = service_account.Credentials.from_service_account_file(\n",
    "            key_path,\n",
    "            scopes=[\"https://www.googleapis.com/auth/bigquery\"]\n",
    "        )\n",
    "\n",
    "        client = bigquery.Client(\n",
    "            credentials=credentials,\n",
    "            project=credentials.project_id,\n",
    "        )\n",
    "        return client\n",
    "\n",
    "client = create_connection()"
   ]
  },
  {
   "cell_type": "code",
   "execution_count": 36,
   "metadata": {},
   "outputs": [],
   "source": [
    "# Perform a query.\n",
    "QUERY = (\n",
    "    \"SELECT * FROM `usp-mba-dsa-tcc.ecommerce_offers.vw_send_alerts` WHERE Status='Active'\"\n",
    ")\n",
    "query_job = client.query(QUERY)  # API request\n",
    "rows = query_job.result()  # Waits for query to finish\n",
    "\n",
    "df = rows.to_dataframe()"
   ]
  },
  {
   "cell_type": "code",
   "execution_count": 37,
   "metadata": {},
   "outputs": [
    {
     "data": {
      "text/html": [
       "<div>\n",
       "<style scoped>\n",
       "    .dataframe tbody tr th:only-of-type {\n",
       "        vertical-align: middle;\n",
       "    }\n",
       "\n",
       "    .dataframe tbody tr th {\n",
       "        vertical-align: top;\n",
       "    }\n",
       "\n",
       "    .dataframe thead th {\n",
       "        text-align: right;\n",
       "    }\n",
       "</style>\n",
       "<table border=\"1\" class=\"dataframe\">\n",
       "  <thead>\n",
       "    <tr style=\"text-align: right;\">\n",
       "      <th></th>\n",
       "      <th>Alert_id</th>\n",
       "      <th>User_id</th>\n",
       "      <th>Product_id</th>\n",
       "      <th>Target</th>\n",
       "      <th>Created_at</th>\n",
       "      <th>Status</th>\n",
       "      <th>user_name</th>\n",
       "      <th>Email</th>\n",
       "      <th>regular_price</th>\n",
       "      <th>sub_price</th>\n",
       "      <th>Loja</th>\n",
       "      <th>Marca</th>\n",
       "      <th>Descricao</th>\n",
       "      <th>URL</th>\n",
       "      <th>img</th>\n",
       "    </tr>\n",
       "  </thead>\n",
       "  <tbody>\n",
       "    <tr>\n",
       "      <th>0</th>\n",
       "      <td>00001</td>\n",
       "      <td>00001</td>\n",
       "      <td>t3kqJ57KOg5qIffC/S571w+DxRzWqt62lOVKcRz3B0w=</td>\n",
       "      <td>180.0</td>\n",
       "      <td>2023-09-19</td>\n",
       "      <td>Active</td>\n",
       "      <td>Teste Hotmail</td>\n",
       "      <td>daniel_ijano@hotmail.com</td>\n",
       "      <td>189.90</td>\n",
       "      <td>170.91</td>\n",
       "      <td>Cobasi</td>\n",
       "      <td>Magnus</td>\n",
       "      <td>Ração Magnus Chips Cães Adultos Carne e Frango...</td>\n",
       "      <td>https://www.cobasi.com.br/racao-magnus-chips-c...</td>\n",
       "      <td>None</td>\n",
       "    </tr>\n",
       "    <tr>\n",
       "      <th>1</th>\n",
       "      <td>00003</td>\n",
       "      <td>00002</td>\n",
       "      <td>4immtn7eSCx3nAT4wkBLvI/aeCqOi4CrhjgDliz5NaQ=</td>\n",
       "      <td>70.0</td>\n",
       "      <td>2023-09-19</td>\n",
       "      <td>Active</td>\n",
       "      <td>Teste Gmail</td>\n",
       "      <td>daniel.ijano@gmail.com</td>\n",
       "      <td>75.90</td>\n",
       "      <td>68.31</td>\n",
       "      <td>Cobasi</td>\n",
       "      <td>Premier Pet</td>\n",
       "      <td>Ração Premier Nattu Gatos Adultos Castrados Ab...</td>\n",
       "      <td>https://www.cobasi.com.br/racao-premier-nattu-...</td>\n",
       "      <td>None</td>\n",
       "    </tr>\n",
       "    <tr>\n",
       "      <th>2</th>\n",
       "      <td>00004</td>\n",
       "      <td>00002</td>\n",
       "      <td>lCJkFl8oZbIcaeKd5NlTn/2NI6Un6VIEbInuiQBcHhI=</td>\n",
       "      <td>190.0</td>\n",
       "      <td>2023-09-19</td>\n",
       "      <td>Active</td>\n",
       "      <td>Teste Gmail</td>\n",
       "      <td>daniel.ijano@gmail.com</td>\n",
       "      <td>223.11</td>\n",
       "      <td>200.80</td>\n",
       "      <td>Petlove</td>\n",
       "      <td>Alinutri</td>\n",
       "      <td>Ração Seca Alinutri Nature Fórmula Pro para Ga...</td>\n",
       "      <td>https://www.petlove.com.br/racao-seca-alinutri...</td>\n",
       "      <td>None</td>\n",
       "    </tr>\n",
       "  </tbody>\n",
       "</table>\n",
       "</div>"
      ],
      "text/plain": [
       "  Alert_id User_id                                    Product_id  Target  \\\n",
       "0    00001   00001  t3kqJ57KOg5qIffC/S571w+DxRzWqt62lOVKcRz3B0w=   180.0   \n",
       "1    00003   00002  4immtn7eSCx3nAT4wkBLvI/aeCqOi4CrhjgDliz5NaQ=    70.0   \n",
       "2    00004   00002  lCJkFl8oZbIcaeKd5NlTn/2NI6Un6VIEbInuiQBcHhI=   190.0   \n",
       "\n",
       "   Created_at  Status      user_name                     Email  regular_price  \\\n",
       "0  2023-09-19  Active  Teste Hotmail  daniel_ijano@hotmail.com         189.90   \n",
       "1  2023-09-19  Active    Teste Gmail    daniel.ijano@gmail.com          75.90   \n",
       "2  2023-09-19  Active    Teste Gmail    daniel.ijano@gmail.com         223.11   \n",
       "\n",
       "   sub_price     Loja        Marca  \\\n",
       "0     170.91   Cobasi       Magnus   \n",
       "1      68.31   Cobasi  Premier Pet   \n",
       "2     200.80  Petlove     Alinutri   \n",
       "\n",
       "                                           Descricao  \\\n",
       "0  Ração Magnus Chips Cães Adultos Carne e Frango...   \n",
       "1  Ração Premier Nattu Gatos Adultos Castrados Ab...   \n",
       "2  Ração Seca Alinutri Nature Fórmula Pro para Ga...   \n",
       "\n",
       "                                                 URL   img  \n",
       "0  https://www.cobasi.com.br/racao-magnus-chips-c...  None  \n",
       "1  https://www.cobasi.com.br/racao-premier-nattu-...  None  \n",
       "2  https://www.petlove.com.br/racao-seca-alinutri...  None  "
      ]
     },
     "execution_count": 37,
     "metadata": {},
     "output_type": "execute_result"
    }
   ],
   "source": [
    "df.head(5)"
   ]
  },
  {
   "cell_type": "code",
   "execution_count": 35,
   "metadata": {},
   "outputs": [],
   "source": [
    "outlook = win32.Dispatch('outlook.application')\n",
    "\n",
    "for row in df.index[:1]:#TEMP\n",
    "    if float(df['sub_price'][row]) <= float(df['Target'][row]):\n",
    "\n",
    "        mail = outlook.CreateItem(0)\n",
    "        mail.To = df['Email'][row]\n",
    "        mail.Subject = \"Seu Alerta de Preço Foi Atingido!\"\n",
    "        mail.HTMLBody = f\"\"\"\n",
    "        <p style=\"font-family: sans-serif; color: #4c4c4c;\">Olá {df['user_name'][row]}<br>O produto que você estava monitorando baixou!!</p>\n",
    "\n",
    "        <div class=\"container\" style=\"display: flex; align-items: center; max-width: 500px\">\n",
    "          <img class=\"image\" src={df['img'][row]} alt=\"Imagem do Produto\" width=200 height=auto>\n",
    "          <strong><p style=\"font-family: sans-serif; font-size: 20px; color: #4c4c4c;\">{df['Marca'][row]}</p>\n",
    "          <p style=\"font-family: sans-serif; font-size: 16px; color: #4c4c4c;\">{df['Descricao'][row]}</p>\n",
    "          <p style=\"font-family: sans-serif; font-size: 24px; color: #4c4c4c;\">R${str(\"{:.2f}\".format(df['sub_price'][row])).replace('.', ',')}</p></strong>\n",
    "        </div>\n",
    "        \n",
    "        <br><strong><a href={df['URL'][row]} style=\"display: block; text-align: center; background-color: #8ed7c1; padding: 10px; \n",
    "        font-family: sans-serif; font-size: 16px; max-width: 500px; text-decoration: none; color: #262626;\">IR PARA {df['Loja'][row].upper()}</a></strong>\n",
    "        \"\"\"\n",
    "        # https://html.onlineviewer.net/\n",
    "        # https://htmlcheatsheet.com/\n",
    "        mail.Send()\n",
    "# https://www.geeksforgeeks.org/different-ways-to-iterate-over-rows-in-pandas-dataframe/"
   ]
  },
  {
   "cell_type": "code",
   "execution_count": null,
   "metadata": {},
   "outputs": [],
   "source": []
  }
 ],
 "metadata": {
  "kernelspec": {
   "display_name": ".venv",
   "language": "python",
   "name": "python3"
  },
  "language_info": {
   "codemirror_mode": {
    "name": "ipython",
    "version": 3
   },
   "file_extension": ".py",
   "mimetype": "text/x-python",
   "name": "python",
   "nbconvert_exporter": "python",
   "pygments_lexer": "ipython3",
   "version": "3.11.5"
  },
  "orig_nbformat": 4
 },
 "nbformat": 4,
 "nbformat_minor": 2
}

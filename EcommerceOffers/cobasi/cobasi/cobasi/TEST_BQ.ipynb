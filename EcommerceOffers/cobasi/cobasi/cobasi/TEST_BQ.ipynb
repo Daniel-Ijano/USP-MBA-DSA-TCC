{
 "cells": [
  {
   "cell_type": "code",
   "execution_count": 7,
   "metadata": {},
   "outputs": [
    {
     "name": "stdout",
     "output_type": "stream",
     "text": [
      "usp-mba-dsa-tcc\n"
     ]
    }
   ],
   "source": [
    "from google.oauth2 import service_account\n",
    "\n",
    "key_path = \"usp-mba-dsa-tcc-4277103d9155.json\" ########### FIX KEYPATH\n",
    "credentials = service_account.Credentials.from_service_account_file(\n",
    "    key_path,\n",
    "    scopes=[\"https://www.googleapis.com/auth/bigquery\"]\n",
    ")\n",
    "\n",
    "print(credentials.project_id)"
   ]
  },
  {
   "cell_type": "code",
   "execution_count": 9,
   "metadata": {},
   "outputs": [
    {
     "name": "stdout",
     "output_type": "stream",
     "text": [
      "Created table usp-mba-dsa-tcc.ecommerce_offers.TESTE3\n"
     ]
    }
   ],
   "source": [
    "from google.cloud import bigquery\n",
    "\n",
    "# Construct a BigQuery client object.\n",
    "client = bigquery.Client(\n",
    "    credentials=credentials,\n",
    "    project=credentials.project_id,\n",
    ")\n",
    "\n",
    "table_id = \"usp-mba-dsa-tcc.ecommerce_offers.TESTE3\"\n",
    "\n",
    "schema = [\n",
    "    bigquery.SchemaField(\"collected_at\", \"DATE\", mode=\"REQUIRED\"),\n",
    "    bigquery.SchemaField(\"source\", \"STRING\", mode=\"REQUIRED\"),\n",
    "    bigquery.SchemaField(\"brand\", \"STRING\", mode=\"REQUIRED\"),\n",
    "    bigquery.SchemaField(\"rating\", \"FLOAT\", mode=\"REQUIRED\"),\n",
    "    bigquery.SchemaField(\"url\", \"STRING\", mode=\"REQUIRED\"),\n",
    "    bigquery.SchemaField(\"status\", \"STRING\", mode=\"REQUIRED\"),\n",
    "    bigquery.SchemaField(\"sku\", \"STRING\", mode=\"REQUIRED\"),\n",
    "    bigquery.SchemaField(\"title\", \"STRING\", mode=\"REQUIRED\"),\n",
    "    bigquery.SchemaField(\"description\", \"STRING\", mode=\"REQUIRED\"),\n",
    "    bigquery.SchemaField(\"pkg_size\", \"STRING\", mode=\"REQUIRED\"),\n",
    "    bigquery.SchemaField(\"regular_price\", \"FLOAT\", mode=\"REQUIRED\"),\n",
    "    bigquery.SchemaField(\"sub_price\", \"FLOAT\", mode=\"REQUIRED\"),\n",
    "    bigquery.SchemaField(\"qty\", \"INTEGER\", mode=\"REQUIRED\"),\n",
    "]\n",
    "\n",
    "table = bigquery.Table(table_id, schema=schema)\n",
    "table = client.create_table(table)\n",
    "\n",
    "print(\n",
    "    \"Created table {}.{}.{}\".format(table.project, table.dataset_id, table.table_id)\n",
    ")"
   ]
  }
 ],
 "metadata": {
  "kernelspec": {
   "display_name": "Projects",
   "language": "python",
   "name": "python3"
  },
  "language_info": {
   "codemirror_mode": {
    "name": "ipython",
    "version": 3
   },
   "file_extension": ".py",
   "mimetype": "text/x-python",
   "name": "python",
   "nbconvert_exporter": "python",
   "pygments_lexer": "ipython3",
   "version": "3.11.1"
  },
  "orig_nbformat": 4
 },
 "nbformat": 4,
 "nbformat_minor": 2
}

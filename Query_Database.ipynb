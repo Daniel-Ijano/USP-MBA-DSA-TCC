{
 "cells": [
  {
   "attachments": {},
   "cell_type": "markdown",
   "metadata": {},
   "source": [
    "### Create connection"
   ]
  },
  {
   "cell_type": "code",
   "execution_count": 1,
   "metadata": {},
   "outputs": [],
   "source": [
    "import cx_Oracle\n",
    "import pandas as pd\n",
    "conn = cx_Oracle.connect(\"admin\", \"Onlin3#onlin3#\", \"adbnews_high\")\n",
    "#curr = conn.cursor()"
   ]
  },
  {
   "attachments": {},
   "cell_type": "markdown",
   "metadata": {},
   "source": [
    "### Run Query"
   ]
  },
  {
   "cell_type": "code",
   "execution_count": 3,
   "metadata": {},
   "outputs": [
    {
     "name": "stderr",
     "output_type": "stream",
     "text": [
      "C:\\Users\\danie\\AppData\\Local\\Temp\\ipykernel_11220\\2955552748.py:9: UserWarning: pandas only supports SQLAlchemy connectable (engine/connection) or database string URI or sqlite3 DBAPI2 connection. Other DBAPI2 objects are not tested. Please consider using SQLAlchemy.\n",
      "  news_data = pd.read_sql(query, con=conn)\n"
     ]
    },
    {
     "data": {
      "text/html": [
       "<div>\n",
       "<style scoped>\n",
       "    .dataframe tbody tr th:only-of-type {\n",
       "        vertical-align: middle;\n",
       "    }\n",
       "\n",
       "    .dataframe tbody tr th {\n",
       "        vertical-align: top;\n",
       "    }\n",
       "\n",
       "    .dataframe thead th {\n",
       "        text-align: right;\n",
       "    }\n",
       "</style>\n",
       "<table border=\"1\" class=\"dataframe\">\n",
       "  <thead>\n",
       "    <tr style=\"text-align: right;\">\n",
       "      <th></th>\n",
       "      <th>SOURCE</th>\n",
       "      <th>SECTION</th>\n",
       "      <th>PUBLICATION</th>\n",
       "      <th>COLLECTED_AT</th>\n",
       "      <th>TITLE</th>\n",
       "      <th>SUMMARY</th>\n",
       "      <th>URL</th>\n",
       "    </tr>\n",
       "  </thead>\n",
       "  <tbody>\n",
       "    <tr>\n",
       "      <th>0</th>\n",
       "      <td>Valor Econômico</td>\n",
       "      <td>Política</td>\n",
       "      <td>2023-01-25T21:16:42.26Z</td>\n",
       "      <td>25-JAN-23</td>\n",
       "      <td>Sandro Avelar é confirmado no cargo de secretá...</td>\n",
       "      <td>O nome do delegado da Polícia Federal foi anun...</td>\n",
       "      <td>https://valor.globo.com/politica/noticia/2023/...</td>\n",
       "    </tr>\n",
       "    <tr>\n",
       "      <th>1</th>\n",
       "      <td>Valor Econômico</td>\n",
       "      <td>Política</td>\n",
       "      <td>2023-01-25T21:01:45.705Z</td>\n",
       "      <td>25-JAN-23</td>\n",
       "      <td>Lula diz que vai trabalhar por pensamento unif...</td>\n",
       "      <td>Petista defendeu também que o Brasil precisa s...</td>\n",
       "      <td>https://valor.globo.com/politica/noticia/2023/...</td>\n",
       "    </tr>\n",
       "    <tr>\n",
       "      <th>2</th>\n",
       "      <td>Valor Econômico</td>\n",
       "      <td>Política</td>\n",
       "      <td>2023-01-25T20:51:55.588Z</td>\n",
       "      <td>25-JAN-23</td>\n",
       "      <td>Senado identifica 23 golpistas nem denunciados...</td>\n",
       "      <td>Segunda representação contra pessoas envolvida...</td>\n",
       "      <td>https://valor.globo.com/politica/noticia/2023/...</td>\n",
       "    </tr>\n",
       "    <tr>\n",
       "      <th>3</th>\n",
       "      <td>Valor Econômico</td>\n",
       "      <td>Política</td>\n",
       "      <td>2023-01-25T20:30:44.218Z</td>\n",
       "      <td>25-JAN-23</td>\n",
       "      <td>Temer rebate Lula, nega golpe contra Dilma e d...</td>\n",
       "      <td>Petista fez novas críticas ao ex-presidente du...</td>\n",
       "      <td>https://valor.globo.com/politica/noticia/2023/...</td>\n",
       "    </tr>\n",
       "    <tr>\n",
       "      <th>4</th>\n",
       "      <td>Valor Econômico</td>\n",
       "      <td>Finanças</td>\n",
       "      <td>2023-01-25T19:47:55.412Z</td>\n",
       "      <td>25-JAN-23</td>\n",
       "      <td>Ouro apaga perdas e fecha em alta pelo 5º dia ...</td>\n",
       "      <td>Virada refletiu o recuo do dólar no exterior e...</td>\n",
       "      <td>https://valor.globo.com/financas/noticia/2023/...</td>\n",
       "    </tr>\n",
       "    <tr>\n",
       "      <th>5</th>\n",
       "      <td>Valor Econômico</td>\n",
       "      <td>Política</td>\n",
       "      <td>2023-01-25T11:52:23.272Z</td>\n",
       "      <td>25-JAN-23</td>\n",
       "      <td>Diário Oficial dispensa militares no GSI e na ...</td>\n",
       "      <td>None</td>\n",
       "      <td>https://valor.globo.com/politica/noticia/2023/...</td>\n",
       "    </tr>\n",
       "    <tr>\n",
       "      <th>6</th>\n",
       "      <td>Valor Econômico</td>\n",
       "      <td>Finanças</td>\n",
       "      <td>2023-01-25T19:42:03.473Z</td>\n",
       "      <td>25-JAN-23</td>\n",
       "      <td>Bolsa e real fecham em alta com fluxo externo</td>\n",
       "      <td>Enquanto Ibovespa retomou 114 mil pontos e jur...</td>\n",
       "      <td>https://valor.globo.com/financas/noticia/2023/...</td>\n",
       "    </tr>\n",
       "    <tr>\n",
       "      <th>7</th>\n",
       "      <td>Valor Econômico</td>\n",
       "      <td>Política</td>\n",
       "      <td>2023-01-25T11:42:36.982Z</td>\n",
       "      <td>25-JAN-23</td>\n",
       "      <td>Bolsonaro terá que passar por cirurgia quando ...</td>\n",
       "      <td>Segundo  Antônio Luiz Macedo, o ex-presidente ...</td>\n",
       "      <td>https://valor.globo.com/politica/noticia/2023/...</td>\n",
       "    </tr>\n",
       "    <tr>\n",
       "      <th>8</th>\n",
       "      <td>Valor Econômico</td>\n",
       "      <td>Finanças</td>\n",
       "      <td>2023-01-25T19:13:29.425Z</td>\n",
       "      <td>25-JAN-23</td>\n",
       "      <td>Americanas declara dívidas de R$ 9,53 milhões ...</td>\n",
       "      <td>No total, são 11 fundos desse tipo com valores...</td>\n",
       "      <td>https://valor.globo.com/financas/noticia/2023/...</td>\n",
       "    </tr>\n",
       "    <tr>\n",
       "      <th>9</th>\n",
       "      <td>Valor Econômico</td>\n",
       "      <td>Política</td>\n",
       "      <td>2023-01-25T08:00:29.869Z</td>\n",
       "      <td>25-JAN-23</td>\n",
       "      <td>General Tomás articula saída política e cancel...</td>\n",
       "      <td>Novo comandante terá de administrar o que o go...</td>\n",
       "      <td>https://valor.globo.com/politica/noticia/2023/...</td>\n",
       "    </tr>\n",
       "  </tbody>\n",
       "</table>\n",
       "</div>"
      ],
      "text/plain": [
       "            SOURCE   SECTION               PUBLICATION COLLECTED_AT  \\\n",
       "0  Valor Econômico  Política   2023-01-25T21:16:42.26Z    25-JAN-23   \n",
       "1  Valor Econômico  Política  2023-01-25T21:01:45.705Z    25-JAN-23   \n",
       "2  Valor Econômico  Política  2023-01-25T20:51:55.588Z    25-JAN-23   \n",
       "3  Valor Econômico  Política  2023-01-25T20:30:44.218Z    25-JAN-23   \n",
       "4  Valor Econômico  Finanças  2023-01-25T19:47:55.412Z    25-JAN-23   \n",
       "5  Valor Econômico  Política  2023-01-25T11:52:23.272Z    25-JAN-23   \n",
       "6  Valor Econômico  Finanças  2023-01-25T19:42:03.473Z    25-JAN-23   \n",
       "7  Valor Econômico  Política  2023-01-25T11:42:36.982Z    25-JAN-23   \n",
       "8  Valor Econômico  Finanças  2023-01-25T19:13:29.425Z    25-JAN-23   \n",
       "9  Valor Econômico  Política  2023-01-25T08:00:29.869Z    25-JAN-23   \n",
       "\n",
       "                                               TITLE  \\\n",
       "0  Sandro Avelar é confirmado no cargo de secretá...   \n",
       "1  Lula diz que vai trabalhar por pensamento unif...   \n",
       "2  Senado identifica 23 golpistas nem denunciados...   \n",
       "3  Temer rebate Lula, nega golpe contra Dilma e d...   \n",
       "4  Ouro apaga perdas e fecha em alta pelo 5º dia ...   \n",
       "5  Diário Oficial dispensa militares no GSI e na ...   \n",
       "6      Bolsa e real fecham em alta com fluxo externo   \n",
       "7  Bolsonaro terá que passar por cirurgia quando ...   \n",
       "8  Americanas declara dívidas de R$ 9,53 milhões ...   \n",
       "9  General Tomás articula saída política e cancel...   \n",
       "\n",
       "                                             SUMMARY  \\\n",
       "0  O nome do delegado da Polícia Federal foi anun...   \n",
       "1  Petista defendeu também que o Brasil precisa s...   \n",
       "2  Segunda representação contra pessoas envolvida...   \n",
       "3  Petista fez novas críticas ao ex-presidente du...   \n",
       "4  Virada refletiu o recuo do dólar no exterior e...   \n",
       "5                                               None   \n",
       "6  Enquanto Ibovespa retomou 114 mil pontos e jur...   \n",
       "7  Segundo  Antônio Luiz Macedo, o ex-presidente ...   \n",
       "8  No total, são 11 fundos desse tipo com valores...   \n",
       "9  Novo comandante terá de administrar o que o go...   \n",
       "\n",
       "                                                 URL  \n",
       "0  https://valor.globo.com/politica/noticia/2023/...  \n",
       "1  https://valor.globo.com/politica/noticia/2023/...  \n",
       "2  https://valor.globo.com/politica/noticia/2023/...  \n",
       "3  https://valor.globo.com/politica/noticia/2023/...  \n",
       "4  https://valor.globo.com/financas/noticia/2023/...  \n",
       "5  https://valor.globo.com/politica/noticia/2023/...  \n",
       "6  https://valor.globo.com/financas/noticia/2023/...  \n",
       "7  https://valor.globo.com/politica/noticia/2023/...  \n",
       "8  https://valor.globo.com/financas/noticia/2023/...  \n",
       "9  https://valor.globo.com/politica/noticia/2023/...  "
      ]
     },
     "execution_count": 3,
     "metadata": {},
     "output_type": "execute_result"
    }
   ],
   "source": [
    "query = \"\"\"\n",
    "    SELECT *\n",
    "    FROM tb_news_TEMP\n",
    "    WHERE rownum <=10\n",
    "\"\"\"\n",
    "\n",
    "#curr.execute(query)\n",
    "\n",
    "news_data = pd.read_sql(query, con=conn)\n",
    "news_data"
   ]
  },
  {
   "attachments": {},
   "cell_type": "markdown",
   "metadata": {},
   "source": [
    "### Close connection"
   ]
  },
  {
   "cell_type": "code",
   "execution_count": 4,
   "metadata": {},
   "outputs": [],
   "source": [
    "#curr.close()\n",
    "conn.close()"
   ]
  },
  {
   "attachments": {},
   "cell_type": "markdown",
   "metadata": {},
   "source": [
    "___\n",
    "### RASCUNHO"
   ]
  },
  {
   "cell_type": "code",
   "execution_count": 6,
   "metadata": {},
   "outputs": [
    {
     "data": {
      "text/plain": [
       "'2023-01-25'"
      ]
     },
     "execution_count": 6,
     "metadata": {},
     "output_type": "execute_result"
    }
   ],
   "source": [
    "date = \"2023-01-25T20:51:55.588Z\"\n",
    "date[:10]"
   ]
  }
 ],
 "metadata": {
  "kernelspec": {
   "display_name": "Projects",
   "language": "python",
   "name": "python3"
  },
  "language_info": {
   "codemirror_mode": {
    "name": "ipython",
    "version": 3
   },
   "file_extension": ".py",
   "mimetype": "text/x-python",
   "name": "python",
   "nbconvert_exporter": "python",
   "pygments_lexer": "ipython3",
   "version": "3.11.1"
  },
  "orig_nbformat": 4,
  "vscode": {
   "interpreter": {
    "hash": "7d0c1e7021d0d945e32e4601c0d213aa2179a77d854ec4fa48d4f46f348dcb60"
   }
  }
 },
 "nbformat": 4,
 "nbformat_minor": 2
}

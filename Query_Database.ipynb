{
 "cells": [
  {
   "attachments": {},
   "cell_type": "markdown",
   "metadata": {},
   "source": [
    "### Create connection"
   ]
  },
  {
   "cell_type": "code",
   "execution_count": 5,
   "metadata": {},
   "outputs": [],
   "source": [
    "import cx_Oracle\n",
    "import pandas as pd\n",
    "conn = cx_Oracle.connect(\"admin\", \"Onlin3#onlin3#\", \"adbnews_high\")\n",
    "#curr = conn.cursor()"
   ]
  },
  {
   "attachments": {},
   "cell_type": "markdown",
   "metadata": {},
   "source": [
    "### Run Query"
   ]
  },
  {
   "cell_type": "code",
   "execution_count": 6,
   "metadata": {},
   "outputs": [
    {
     "name": "stderr",
     "output_type": "stream",
     "text": [
      "C:\\Users\\danie\\AppData\\Local\\Temp\\ipykernel_17452\\3529674303.py:9: UserWarning: pandas only supports SQLAlchemy connectable (engine/connection) or database string URI or sqlite3 DBAPI2 connection. Other DBAPI2 objects are not tested. Please consider using SQLAlchemy.\n",
      "  news_data = pd.read_sql(query, con=conn)\n"
     ]
    }
   ],
   "source": [
    "query = \"\"\"\n",
    "    SELECT *\n",
    "    FROM tb_news_valor_economico\n",
    "    WHERE rownum <=10\n",
    "\"\"\"\n",
    "\n",
    "#curr.execute(query)\n",
    "\n",
    "news_data = pd.read_sql(query, con=conn)\n",
    "conn.close()"
   ]
  },
  {
   "attachments": {},
   "cell_type": "markdown",
   "metadata": {},
   "source": [
    "___\n",
    "### RASCUNHO"
   ]
  },
  {
   "cell_type": "code",
   "execution_count": 12,
   "metadata": {},
   "outputs": [
    {
     "data": {
      "text/html": [
       "<div>\n",
       "<style scoped>\n",
       "    .dataframe tbody tr th:only-of-type {\n",
       "        vertical-align: middle;\n",
       "    }\n",
       "\n",
       "    .dataframe tbody tr th {\n",
       "        vertical-align: top;\n",
       "    }\n",
       "\n",
       "    .dataframe thead th {\n",
       "        text-align: right;\n",
       "    }\n",
       "</style>\n",
       "<table border=\"1\" class=\"dataframe\">\n",
       "  <thead>\n",
       "    <tr style=\"text-align: right;\">\n",
       "      <th></th>\n",
       "      <th>SOURCE</th>\n",
       "      <th>SECTION</th>\n",
       "      <th>PUBLICATION</th>\n",
       "      <th>COLLECTED_AT</th>\n",
       "      <th>TITLE</th>\n",
       "      <th>SUMMARY</th>\n",
       "      <th>URL</th>\n",
       "      <th>news_id</th>\n",
       "    </tr>\n",
       "  </thead>\n",
       "  <tbody>\n",
       "    <tr>\n",
       "      <th>0</th>\n",
       "      <td>Valor Econômico</td>\n",
       "      <td>Política</td>\n",
       "      <td>2023-01-25</td>\n",
       "      <td>2023-01-26</td>\n",
       "      <td>Moraes multa Telegram em R$ 1,2 milhão por des...</td>\n",
       "      <td>Segundo o ministro, medida tem fim de \"interro...</td>\n",
       "      <td>https://valor.globo.com/politica/noticia/2023/...</td>\n",
       "      <td>146fbb85c8597189fc3e3fc57ab5192153a6c32ceb0d8f...</td>\n",
       "    </tr>\n",
       "    <tr>\n",
       "      <th>1</th>\n",
       "      <td>Valor Econômico</td>\n",
       "      <td>Política</td>\n",
       "      <td>2023-01-25</td>\n",
       "      <td>2023-01-26</td>\n",
       "      <td>Líder do PSB vê como positiva eventual fusão c...</td>\n",
       "      <td>Senador do Amapá vai defender incorporação do ...</td>\n",
       "      <td>https://valor.globo.com/politica/noticia/2023/...</td>\n",
       "      <td>6fc94bde5f78a49d6d0ffd3481517e2141172141aa3e5b...</td>\n",
       "    </tr>\n",
       "    <tr>\n",
       "      <th>2</th>\n",
       "      <td>Valor Econômico</td>\n",
       "      <td>Finanças</td>\n",
       "      <td>2023-01-26</td>\n",
       "      <td>2023-01-26</td>\n",
       "      <td>Estrangeiro ajuda a dar fôlego a mercado local</td>\n",
       "      <td>O “yield” da T-note de dois anos terminou o di...</td>\n",
       "      <td>https://valor.globo.com/financas/noticia/2023/...</td>\n",
       "      <td>d457b7c3f869097ed3aac86760db2b35997e9e324335ef...</td>\n",
       "    </tr>\n",
       "    <tr>\n",
       "      <th>3</th>\n",
       "      <td>Valor Econômico</td>\n",
       "      <td>Finanças</td>\n",
       "      <td>2023-01-26</td>\n",
       "      <td>2023-01-26</td>\n",
       "      <td>2023 e os avanços do mercado de capitais</td>\n",
       "      <td>Mudanças recentes, como o marco da securitizaç...</td>\n",
       "      <td>https://valor.globo.com/financas/coluna/2023-e...</td>\n",
       "      <td>1b5c8aeafa308f6e195e597db6f2552f654b69f828234b...</td>\n",
       "    </tr>\n",
       "    <tr>\n",
       "      <th>4</th>\n",
       "      <td>Valor Econômico</td>\n",
       "      <td>Criptomoedas</td>\n",
       "      <td>2023-01-26</td>\n",
       "      <td>2023-01-26</td>\n",
       "      <td>Alta do bitcoin reaquece mineração ‘cripto’</td>\n",
       "      <td>Nível de atividade mais que dobrou desde o pon...</td>\n",
       "      <td>https://valor.globo.com/financas/criptomoedas/...</td>\n",
       "      <td>4b3359d041b158dc84f25d4000f90acf9f587a69c8743d...</td>\n",
       "    </tr>\n",
       "    <tr>\n",
       "      <th>5</th>\n",
       "      <td>Valor Econômico</td>\n",
       "      <td>Finanças</td>\n",
       "      <td>2023-01-26</td>\n",
       "      <td>2023-01-26</td>\n",
       "      <td>Tesouro deve manter tom conservador em emissões</td>\n",
       "      <td>Expectativa é que papéis atrelados à Selic sej...</td>\n",
       "      <td>https://valor.globo.com/financas/noticia/2023/...</td>\n",
       "      <td>01212d5d7a15f47675c0912d7f4ff11e8637f16e6c08f3...</td>\n",
       "    </tr>\n",
       "    <tr>\n",
       "      <th>6</th>\n",
       "      <td>Valor Econômico</td>\n",
       "      <td>Política</td>\n",
       "      <td>2023-01-25</td>\n",
       "      <td>2023-01-26</td>\n",
       "      <td>Acusação do PL pela cassação de Moro cita caix...</td>\n",
       "      <td>Partido do ex-presidente Jair Bolonsaro pede a...</td>\n",
       "      <td>https://valor.globo.com/politica/noticia/2023/...</td>\n",
       "      <td>b04395536b6f96fad56fa255eed3704b1eebc80034de31...</td>\n",
       "    </tr>\n",
       "    <tr>\n",
       "      <th>7</th>\n",
       "      <td>Valor Econômico</td>\n",
       "      <td>Finanças</td>\n",
       "      <td>2023-01-26</td>\n",
       "      <td>2023-01-26</td>\n",
       "      <td>Fundo de crédito ‘estressado’ avalia se há val...</td>\n",
       "      <td>Fundo de crédito estressado pesa se há valor a...</td>\n",
       "      <td>https://valor.globo.com/financas/noticia/2023/...</td>\n",
       "      <td>687d5a53e2cdf999b50d9904608b699c4a04cf114b6a73...</td>\n",
       "    </tr>\n",
       "    <tr>\n",
       "      <th>8</th>\n",
       "      <td>Valor Econômico</td>\n",
       "      <td>Política</td>\n",
       "      <td>2023-01-25</td>\n",
       "      <td>2023-01-26</td>\n",
       "      <td>No aniversário de São Paulo, Tarcísio e Nunes ...</td>\n",
       "      <td>Local atende moradores em situação de rua, que...</td>\n",
       "      <td>https://valor.globo.com/politica/noticia/2023/...</td>\n",
       "      <td>88ff3a29ed554be04b93279671ceff9f9d7e06fe293f62...</td>\n",
       "    </tr>\n",
       "    <tr>\n",
       "      <th>9</th>\n",
       "      <td>Valor Econômico</td>\n",
       "      <td>Criptomoedas</td>\n",
       "      <td>2023-01-26</td>\n",
       "      <td>2023-01-26</td>\n",
       "      <td>SP inclui ‘blockchain’ na administração pública</td>\n",
       "      <td>Combate à corrupção, eficiência na arrecadação...</td>\n",
       "      <td>https://valor.globo.com/financas/criptomoedas/...</td>\n",
       "      <td>66fdbd331296b75d6bde975832c614a076323f43402803...</td>\n",
       "    </tr>\n",
       "  </tbody>\n",
       "</table>\n",
       "</div>"
      ],
      "text/plain": [
       "            SOURCE       SECTION PUBLICATION COLLECTED_AT  \\\n",
       "0  Valor Econômico      Política  2023-01-25   2023-01-26   \n",
       "1  Valor Econômico      Política  2023-01-25   2023-01-26   \n",
       "2  Valor Econômico      Finanças  2023-01-26   2023-01-26   \n",
       "3  Valor Econômico      Finanças  2023-01-26   2023-01-26   \n",
       "4  Valor Econômico  Criptomoedas  2023-01-26   2023-01-26   \n",
       "5  Valor Econômico      Finanças  2023-01-26   2023-01-26   \n",
       "6  Valor Econômico      Política  2023-01-25   2023-01-26   \n",
       "7  Valor Econômico      Finanças  2023-01-26   2023-01-26   \n",
       "8  Valor Econômico      Política  2023-01-25   2023-01-26   \n",
       "9  Valor Econômico  Criptomoedas  2023-01-26   2023-01-26   \n",
       "\n",
       "                                               TITLE  \\\n",
       "0  Moraes multa Telegram em R$ 1,2 milhão por des...   \n",
       "1  Líder do PSB vê como positiva eventual fusão c...   \n",
       "2     Estrangeiro ajuda a dar fôlego a mercado local   \n",
       "3           2023 e os avanços do mercado de capitais   \n",
       "4        Alta do bitcoin reaquece mineração ‘cripto’   \n",
       "5    Tesouro deve manter tom conservador em emissões   \n",
       "6  Acusação do PL pela cassação de Moro cita caix...   \n",
       "7  Fundo de crédito ‘estressado’ avalia se há val...   \n",
       "8  No aniversário de São Paulo, Tarcísio e Nunes ...   \n",
       "9    SP inclui ‘blockchain’ na administração pública   \n",
       "\n",
       "                                             SUMMARY  \\\n",
       "0  Segundo o ministro, medida tem fim de \"interro...   \n",
       "1  Senador do Amapá vai defender incorporação do ...   \n",
       "2  O “yield” da T-note de dois anos terminou o di...   \n",
       "3  Mudanças recentes, como o marco da securitizaç...   \n",
       "4  Nível de atividade mais que dobrou desde o pon...   \n",
       "5  Expectativa é que papéis atrelados à Selic sej...   \n",
       "6  Partido do ex-presidente Jair Bolonsaro pede a...   \n",
       "7  Fundo de crédito estressado pesa se há valor a...   \n",
       "8  Local atende moradores em situação de rua, que...   \n",
       "9  Combate à corrupção, eficiência na arrecadação...   \n",
       "\n",
       "                                                 URL  \\\n",
       "0  https://valor.globo.com/politica/noticia/2023/...   \n",
       "1  https://valor.globo.com/politica/noticia/2023/...   \n",
       "2  https://valor.globo.com/financas/noticia/2023/...   \n",
       "3  https://valor.globo.com/financas/coluna/2023-e...   \n",
       "4  https://valor.globo.com/financas/criptomoedas/...   \n",
       "5  https://valor.globo.com/financas/noticia/2023/...   \n",
       "6  https://valor.globo.com/politica/noticia/2023/...   \n",
       "7  https://valor.globo.com/financas/noticia/2023/...   \n",
       "8  https://valor.globo.com/politica/noticia/2023/...   \n",
       "9  https://valor.globo.com/financas/criptomoedas/...   \n",
       "\n",
       "                                             news_id  \n",
       "0  146fbb85c8597189fc3e3fc57ab5192153a6c32ceb0d8f...  \n",
       "1  6fc94bde5f78a49d6d0ffd3481517e2141172141aa3e5b...  \n",
       "2  d457b7c3f869097ed3aac86760db2b35997e9e324335ef...  \n",
       "3  1b5c8aeafa308f6e195e597db6f2552f654b69f828234b...  \n",
       "4  4b3359d041b158dc84f25d4000f90acf9f587a69c8743d...  \n",
       "5  01212d5d7a15f47675c0912d7f4ff11e8637f16e6c08f3...  \n",
       "6  b04395536b6f96fad56fa255eed3704b1eebc80034de31...  \n",
       "7  687d5a53e2cdf999b50d9904608b699c4a04cf114b6a73...  \n",
       "8  88ff3a29ed554be04b93279671ceff9f9d7e06fe293f62...  \n",
       "9  66fdbd331296b75d6bde975832c614a076323f43402803...  "
      ]
     },
     "execution_count": 12,
     "metadata": {},
     "output_type": "execute_result"
    }
   ],
   "source": [
    "import hashlib\n",
    "\n",
    "news_data[\"news_id\"] = news_data[\"URL\"].apply(lambda x: hashlib.sha256(x.encode()).hexdigest())\n",
    "\n",
    "\n",
    "news_data[\"URL\"]"
   ]
  },
  {
   "cell_type": "code",
   "execution_count": 19,
   "metadata": {},
   "outputs": [
    {
     "data": {
      "text/plain": [
       "64"
      ]
     },
     "execution_count": 19,
     "metadata": {},
     "output_type": "execute_result"
    }
   ],
   "source": [
    "len(news_data[\"news_id\"][9])"
   ]
  }
 ],
 "metadata": {
  "kernelspec": {
   "display_name": "Projects",
   "language": "python",
   "name": "python3"
  },
  "language_info": {
   "codemirror_mode": {
    "name": "ipython",
    "version": 3
   },
   "file_extension": ".py",
   "mimetype": "text/x-python",
   "name": "python",
   "nbconvert_exporter": "python",
   "pygments_lexer": "ipython3",
   "version": "3.11.1"
  },
  "orig_nbformat": 4,
  "vscode": {
   "interpreter": {
    "hash": "7d0c1e7021d0d945e32e4601c0d213aa2179a77d854ec4fa48d4f46f348dcb60"
   }
  }
 },
 "nbformat": 4,
 "nbformat_minor": 2
}
